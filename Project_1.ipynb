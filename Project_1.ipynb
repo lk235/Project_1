{
 "cells": [
  {
   "cell_type": "code",
   "execution_count": 7,
   "metadata": {
    "collapsed": true
   },
   "outputs": [
    {
     "name": "stdout",
     "output_type": "stream",
     "text": [
      "WRITE END\n"
     ]
    }
   ],
   "source": [
    "# 从原始 OSM 区域中获取系统的元素样本\n",
    "# -*- coding: utf-8 -*-\n",
    "import xml.etree.ElementTree as ET  # Use cElementTree or lxml if too slow\n",
    "\n",
    "OSM_FILE = \"C:/Users/lk235/Desktop/Project_1/wenzhou.osm\"  # Replace this with your osm file\n",
    "SAMPLE_FILE = \"C:/Users/lk235/Desktop/Project_1/sample.osm\"\n",
    "\n",
    "k = 10 # Parameter: take every k-th top level element\n",
    "\n",
    "def get_element(osm_file, tags=('node', 'way', 'relation')):\n",
    "    \"\"\"Yield element if it is the right type of tag\n",
    "\n",
    "    Reference:\n",
    "    http://stackoverflow.com/questions/3095434/inserting-newlines-in-xml-file-generated-via-xml-etree-elementtree-in-python\n",
    "    \"\"\"\n",
    "    context = iter(ET.iterparse(osm_file, events=('start', 'end')))\n",
    "    _, root = next(context)\n",
    "    for event, elem in context:\n",
    "        if event == 'end' and elem.tag in tags:\n",
    "            yield elem\n",
    "            root.clear()\n",
    "\n",
    "\n",
    "with open(SAMPLE_FILE, 'wb') as output:\n",
    "    output.write('<?xml version=\"1.0\" encoding=\"UTF-8\"?>\\n')\n",
    "    output.write('<osm>\\n  ')\n",
    "\n",
    "    # Write every kth top level element\n",
    "    for i, element in enumerate(get_element(OSM_FILE)):\n",
    "        if i % k == 0:\n",
    "            output.write(ET.tostring(element, encoding='utf-8'))\n",
    "\n",
    "    output.write('</osm>')\n",
    "    print 'WRITE END'"
   ]
  },
  {
   "cell_type": "code",
   "execution_count": 8,
   "metadata": {},
   "outputs": [
    {
     "name": "stdout",
     "output_type": "stream",
     "text": [
      "start\n"
     ]
    },
    {
     "name": "stdout",
     "output_type": "stream",
     "text": [
      "{'node': 42224, 'nd': 49410, 'member': 350, 'tag': 8129, 'relation': 18, 'way': 2749, 'osm': 1}\n\r\n\n"
     ]
    }
   ],
   "source": [
    "# 在地图中的每个类别有多少数据\n",
    "import xml.etree.cElementTree as ET\n",
    "import pprint\n",
    "from collections import defaultdict\n",
    "import re\n",
    "import os\n",
    "\n",
    "SAMPLE_FILE = \"C:/Users/lk235/Desktop/Project_1/sample.osm\"\n",
    "\n",
    "\n",
    "       \n",
    "def count_tags(filename):\n",
    "    osm_file = open(filename, \"r\")\n",
    "    tags = {}\n",
    "    pattern = re.compile(\"'(.*)'\")\n",
    "    for event, elem in ET.iterparse(osm_file):\n",
    "        k = str(pattern.findall(str(elem))).strip('[]').strip('\\'')\n",
    "        # k = pattern.findall(str(elem))\n",
    "        \n",
    "        if k not in tags.keys():\n",
    "            tags[k] = 1\n",
    "        else:\n",
    "            tags[k] = tags[k] + 1\n",
    "        \n",
    "    return tags\n",
    "print 'start'\n",
    "print count_tags(SAMPLE_FILE)\n",
    "print os.linesep\n"
   ]
  },
  {
   "cell_type": "code",
   "execution_count": 28,
   "metadata": {},
   "outputs": [],
   "source": [
    "# 审查路名：way节点下发现名字中有非中文、乱码等情况、非温州道路;如果英文路名存在中文字段，则用中文字段替换\n",
    "# node节点下名字非中文，uu等无法理解的名字；china-class字段全部为英文或拼音，应统一改成中文\n",
    "# 审查代码如下：\n",
    "import sys\n",
    "reload(sys)\n",
    "sys.setdefaultencoding('utf8')\n",
    "\n",
    "SAMPLE_FILE = \"C:/Users/lk235/Desktop/Project_1/sample.osm\"\n",
    "# def is_street_name(elem):\n",
    "#     return (elem.attrib['k'] == \"addr:street\")\n",
    "problemchars = re.compile(r'[=\\+/&<>;\\'\"\\?%#$@\\,\\. \\t\\r\\n]')\n",
    "def audit(osmfile):\n",
    "    osm_file = open(osmfile, \"r\")\n",
    "    street_types = defaultdict(set)\n",
    "    count = 0\n",
    "    for event, elem in ET.iterparse(osm_file, events=(\"start\",)):\n",
    "\n",
    "        # if elem.tag == \"node\" or elem.tag == \"way\":\n",
    "        if elem.tag == \"node\":\n",
    "            for tag in elem.iter(\"tag\"):\n",
    "                if tag.attrib['k'] == 'place':\n",
    "                    # if  tag.attrib['v'].find('台州') == -1:\n",
    "                        count = count + 1\n",
    "                        print tag.attrib['v']\n",
    "                # if is_street_name(tag):\n",
    "              \n",
    "                    # audit_street_type(street_types, tag.attrib['v'])\n",
    "    print count               \n",
    "    osm_file.close()\n",
    "    return street_types\n",
    "\n",
    "audit(SAMPLE_FILE)"
   ]
  },
  {
   "cell_type": "code",
   "execution_count": 23,
   "metadata": {},
   "outputs": [],
   "source": []
  },
  {
   "cell_type": "code",
   "execution_count": null,
   "metadata": {},
   "outputs": [],
   "source": []
  }
 ],
 "metadata": {
  "kernelspec": {
   "display_name": "Python 2",
   "language": "python",
   "name": "python2"
  },
  "language_info": {
   "codemirror_mode": {
    "name": "ipython",
    "version": 2
   },
   "file_extension": ".py",
   "mimetype": "text/x-python",
   "name": "python",
   "nbconvert_exporter": "python",
   "pygments_lexer": "ipython2",
   "version": "2.7.6"
  }
 },
 "nbformat": 4,
 "nbformat_minor": 0
}
